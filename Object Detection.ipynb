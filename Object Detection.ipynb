{
 "cells": [
  {
   "cell_type": "code",
   "execution_count": 1,
   "metadata": {},
   "outputs": [],
   "source": [
    "\"\"\"\n",
    "My first object detection problem using CNN and Keras: detecting a single object in a image\n",
    "    - Uses VGG16 as the base model\n",
    "\n",
    "Based on: https://www.pyimagesearch.com/2020/10/05/object-detection-bounding-box-regression-with-keras-tensorflow-and-deep-learning/\n",
    "@Author: Diogo Barros\n",
    "@Version: 1.2\n",
    "\"\"\"\n",
    "\n",
    "import os\n",
    "os.chdir(\"C:\\\\Users\\\\DBarros\\\\Documents\\\\SAFArI\\\\Machine Learning tryouts\\\\Datasets\\Biota01 - boundingboxes0\")"
   ]
  },
  {
   "cell_type": "code",
   "execution_count": 2,
   "metadata": {},
   "outputs": [
    {
     "name": "stdout",
     "output_type": "stream",
     "text": [
      "lol\n"
     ]
    }
   ],
   "source": [
    "# import the necessary packages\n",
    "import config\n",
    "from tensorflow.keras.applications import VGG16\n",
    "from tensorflow.keras.layers import Flatten\n",
    "from tensorflow.keras.layers import Dense\n",
    "from tensorflow.keras.layers import Input\n",
    "from tensorflow.keras.models import Model\n",
    "from tensorflow.keras.optimizers import Adam\n",
    "from tensorflow.keras.preprocessing.image import img_to_array\n",
    "from tensorflow.keras.preprocessing.image import load_img\n",
    "from sklearn.model_selection import train_test_split\n",
    "import matplotlib.pyplot as plt\n",
    "import numpy as np\n",
    "import cv2\n",
    "print(\"lol\")"
   ]
  },
  {
   "cell_type": "code",
   "execution_count": 6,
   "metadata": {},
   "outputs": [
    {
     "name": "stdout",
     "output_type": "stream",
     "text": [
      "[INFO] loading dataset...\n",
      "lol\n"
     ]
    }
   ],
   "source": [
    "# load the contents of the CSV annotations file\n",
    "print(\"[INFO] loading dataset...\")\n",
    "rows = open(config.ANNOTS_PATH).read().strip().split(\"\\n\")\n",
    "# initialize the list of data (images), our target output predictions\n",
    "#(bounding box coordinates), along with the filenames of the individual images\n",
    "data = []\n",
    "targets = []\n",
    "filenames = []\n",
    "# getting rid of the initial trailing junk (alternatively set file to UTF-8-BOM coding)\n",
    "rows[0]=rows[0][3:]\n",
    "print(\"lol\")\n"
   ]
  },
  {
   "cell_type": "code",
   "execution_count": 7,
   "metadata": {},
   "outputs": [
    {
     "ename": "AttributeError",
     "evalue": "'NoneType' object has no attribute 'shape'",
     "output_type": "error",
     "traceback": [
      "\u001b[1;31m---------------------------------------------------------------------------\u001b[0m",
      "\u001b[1;31mAttributeError\u001b[0m                            Traceback (most recent call last)",
      "\u001b[1;32m<ipython-input-7-c810e7d9faf8>\u001b[0m in \u001b[0;36m<module>\u001b[1;34m\u001b[0m\n\u001b[0;32m      8\u001b[0m     \u001b[0mimagePath\u001b[0m \u001b[1;33m=\u001b[0m \u001b[0mos\u001b[0m\u001b[1;33m.\u001b[0m\u001b[0mpath\u001b[0m\u001b[1;33m.\u001b[0m\u001b[0msep\u001b[0m\u001b[1;33m.\u001b[0m\u001b[0mjoin\u001b[0m\u001b[1;33m(\u001b[0m\u001b[1;33m[\u001b[0m\u001b[0mconfig\u001b[0m\u001b[1;33m.\u001b[0m\u001b[0mIMAGES_PATH\u001b[0m\u001b[1;33m,\u001b[0m \u001b[0mfilename\u001b[0m\u001b[1;33m]\u001b[0m\u001b[1;33m)\u001b[0m\u001b[1;33m\u001b[0m\u001b[1;33m\u001b[0m\u001b[0m\n\u001b[0;32m      9\u001b[0m     \u001b[0mimage\u001b[0m \u001b[1;33m=\u001b[0m \u001b[0mcv2\u001b[0m\u001b[1;33m.\u001b[0m\u001b[0mimread\u001b[0m\u001b[1;33m(\u001b[0m\u001b[0mimagePath\u001b[0m\u001b[1;33m)\u001b[0m\u001b[1;33m\u001b[0m\u001b[1;33m\u001b[0m\u001b[0m\n\u001b[1;32m---> 10\u001b[1;33m     \u001b[1;33m(\u001b[0m\u001b[0mh\u001b[0m\u001b[1;33m,\u001b[0m \u001b[0mw\u001b[0m\u001b[1;33m)\u001b[0m \u001b[1;33m=\u001b[0m \u001b[0mimage\u001b[0m\u001b[1;33m.\u001b[0m\u001b[0mshape\u001b[0m\u001b[1;33m[\u001b[0m\u001b[1;33m:\u001b[0m\u001b[1;36m2\u001b[0m\u001b[1;33m]\u001b[0m\u001b[1;33m\u001b[0m\u001b[1;33m\u001b[0m\u001b[0m\n\u001b[0m\u001b[0;32m     11\u001b[0m \u001b[1;33m\u001b[0m\u001b[0m\n\u001b[0;32m     12\u001b[0m     \u001b[1;31m# scale the bounding box coordinates relative to the spatial dimensions of the input image\u001b[0m\u001b[1;33m\u001b[0m\u001b[1;33m\u001b[0m\u001b[1;33m\u001b[0m\u001b[0m\n",
      "\u001b[1;31mAttributeError\u001b[0m: 'NoneType' object has no attribute 'shape'"
     ]
    }
   ],
   "source": [
    "# loop over the rows\n",
    "for row in rows:\n",
    "    # break the row into the filename and bounding box coordinates\n",
    "    row = row.split(\",\")\n",
    "    (filename, startX, startY, endX, endY) = row\n",
    "\n",
    "    # derive the path to the input image, load the image (in OpenCV format), and grab its dimensions\n",
    "    imagePath = os.path.sep.join([config.IMAGES_PATH, filename])\n",
    "    image = cv2.imread(imagePath)\n",
    "    (h, w) = image.shape[:2]\n",
    "    \n",
    "    # scale the bounding box coordinates relative to the spatial dimensions of the input image\n",
    "    startX = float(startX) / w\n",
    "    startY = float(startY) / h\n",
    "    endX = float(endX) / w\n",
    "    endY = float(endY) / h\n",
    "    \n",
    "    # load the image and preprocess it\n",
    "    image = load_img(imagePath, target_size=(224, 224))\n",
    "    image = img_to_array(image)\n",
    "    \n",
    "    # update our list of data, targets, and filenames\n",
    "    data.append(image)\n",
    "    targets.append((startX, startY, endX, endY))\n",
    "    filenames.append(filename)\n",
    "print(\"lol\")"
   ]
  },
  {
   "cell_type": "code",
   "execution_count": null,
   "metadata": {},
   "outputs": [],
   "source": [
    "# convert the data and targets to NumPy arrays, scaling the input\n",
    "# pixel intensities from the range [0, 255] to [0, 1]\n",
    "data = np.array(data, dtype=\"float32\") / 255.0\n",
    "targets = np.array(targets, dtype=\"float32\")\n",
    "# partition the data into training and testing splits using 90% of\n",
    "# the data for training and the remaining 10% for testing\n",
    "split = train_test_split(data, targets, filenames, test_size=0.10,\n",
    "\trandom_state=42)\n",
    "# unpack the data split\n",
    "(trainImages, testImages) = split[:2]\n",
    "(trainTargets, testTargets) = split[2:4]\n",
    "(trainFilenames, testFilenames) = split[4:]\n",
    "# write the testing filenames to disk so that we can use then\n",
    "# when evaluating/testing our bounding box regressor\n",
    "print(\"[INFO] saving testing filenames...\")\n",
    "f = open(config.TEST_FILENAMES, \"w\")\n",
    "f.write(\"\\n\".join(testFilenames))\n",
    "f.close()\n",
    "print(\"lol\")"
   ]
  },
  {
   "cell_type": "code",
   "execution_count": 21,
   "metadata": {},
   "outputs": [
    {
     "name": "stdout",
     "output_type": "stream",
     "text": [
      "done\n"
     ]
    }
   ],
   "source": [
    "# load the VGG16 network, ensuring the head FC layers are left off\n",
    "vgg = VGG16(weights=\"imagenet\", include_top=False,\n",
    "\tinput_tensor=Input(shape=(224, 224, 3)))\n",
    "# freeze all VGG layers so they will *not* be updated during the\n",
    "# training process\n",
    "vgg.trainable = False\n",
    "# flatten the max-pooling output of VGG\n",
    "flatten = vgg.output\n",
    "flatten = Flatten()(flatten)\n",
    "# construct a fully-connected layer header to output the predicted\n",
    "# bounding box coordinates\n",
    "bboxHead = Dense(128, activation=\"relu\")(flatten)\n",
    "bboxHead = Dense(64, activation=\"relu\")(bboxHead)\n",
    "bboxHead = Dense(32, activation=\"relu\")(bboxHead)\n",
    "bboxHead = Dense(4, activation=\"sigmoid\")(bboxHead)\n",
    "# construct the model we will fine-tune for bounding box regression\n",
    "model = Model(inputs=vgg.input, outputs=bboxHead)\n",
    "print(\"done\")"
   ]
  },
  {
   "cell_type": "code",
   "execution_count": 22,
   "metadata": {},
   "outputs": [
    {
     "name": "stdout",
     "output_type": "stream",
     "text": [
      "Model: \"model\"\n",
      "_________________________________________________________________\n",
      "Layer (type)                 Output Shape              Param #   \n",
      "=================================================================\n",
      "input_1 (InputLayer)         [(None, 224, 224, 3)]     0         \n",
      "_________________________________________________________________\n",
      "block1_conv1 (Conv2D)        (None, 224, 224, 64)      1792      \n",
      "_________________________________________________________________\n",
      "block1_conv2 (Conv2D)        (None, 224, 224, 64)      36928     \n",
      "_________________________________________________________________\n",
      "block1_pool (MaxPooling2D)   (None, 112, 112, 64)      0         \n",
      "_________________________________________________________________\n",
      "block2_conv1 (Conv2D)        (None, 112, 112, 128)     73856     \n",
      "_________________________________________________________________\n",
      "block2_conv2 (Conv2D)        (None, 112, 112, 128)     147584    \n",
      "_________________________________________________________________\n",
      "block2_pool (MaxPooling2D)   (None, 56, 56, 128)       0         \n",
      "_________________________________________________________________\n",
      "block3_conv1 (Conv2D)        (None, 56, 56, 256)       295168    \n",
      "_________________________________________________________________\n",
      "block3_conv2 (Conv2D)        (None, 56, 56, 256)       590080    \n",
      "_________________________________________________________________\n",
      "block3_conv3 (Conv2D)        (None, 56, 56, 256)       590080    \n",
      "_________________________________________________________________\n",
      "block3_pool (MaxPooling2D)   (None, 28, 28, 256)       0         \n",
      "_________________________________________________________________\n",
      "block4_conv1 (Conv2D)        (None, 28, 28, 512)       1180160   \n",
      "_________________________________________________________________\n",
      "block4_conv2 (Conv2D)        (None, 28, 28, 512)       2359808   \n",
      "_________________________________________________________________\n",
      "block4_conv3 (Conv2D)        (None, 28, 28, 512)       2359808   \n",
      "_________________________________________________________________\n",
      "block4_pool (MaxPooling2D)   (None, 14, 14, 512)       0         \n",
      "_________________________________________________________________\n",
      "block5_conv1 (Conv2D)        (None, 14, 14, 512)       2359808   \n",
      "_________________________________________________________________\n",
      "block5_conv2 (Conv2D)        (None, 14, 14, 512)       2359808   \n",
      "_________________________________________________________________\n",
      "block5_conv3 (Conv2D)        (None, 14, 14, 512)       2359808   \n",
      "_________________________________________________________________\n",
      "block5_pool (MaxPooling2D)   (None, 7, 7, 512)         0         \n",
      "_________________________________________________________________\n",
      "flatten (Flatten)            (None, 25088)             0         \n",
      "_________________________________________________________________\n",
      "dense (Dense)                (None, 128)               3211392   \n",
      "_________________________________________________________________\n",
      "dense_1 (Dense)              (None, 64)                8256      \n",
      "_________________________________________________________________\n",
      "dense_2 (Dense)              (None, 32)                2080      \n",
      "_________________________________________________________________\n",
      "dense_3 (Dense)              (None, 4)                 132       \n",
      "=================================================================\n",
      "Total params: 17,936,548\n",
      "Trainable params: 3,221,860\n",
      "Non-trainable params: 14,714,688\n",
      "_________________________________________________________________\n",
      "None\n",
      "[INFO] training bounding box regressor...\n",
      "Epoch 1/25\n",
      "9/9 [==============================] - 62s 7s/step - loss: 0.0579 - val_loss: 0.0179\n",
      "Epoch 2/25\n",
      "9/9 [==============================] - 61s 7s/step - loss: 0.0192 - val_loss: 0.0146\n",
      "Epoch 3/25\n",
      "9/9 [==============================] - 60s 7s/step - loss: 0.0156 - val_loss: 0.0124\n",
      "Epoch 4/25\n",
      "9/9 [==============================] - 60s 7s/step - loss: 0.0125 - val_loss: 0.0104\n",
      "Epoch 5/25\n",
      "9/9 [==============================] - 61s 7s/step - loss: 0.0123 - val_loss: 0.0107\n",
      "Epoch 6/25\n",
      "9/9 [==============================] - 64s 7s/step - loss: 0.0114 - val_loss: 0.0093\n",
      "Epoch 7/25\n",
      "9/9 [==============================] - 63s 7s/step - loss: 0.0107 - val_loss: 0.0095\n",
      "Epoch 8/25\n",
      "9/9 [==============================] - 62s 7s/step - loss: 0.0089 - val_loss: 0.0085\n",
      "Epoch 9/25\n",
      "9/9 [==============================] - 61s 7s/step - loss: 0.0083 - val_loss: 0.0095\n",
      "Epoch 10/25\n",
      "9/9 [==============================] - 62s 7s/step - loss: 0.0088 - val_loss: 0.0081\n",
      "Epoch 11/25\n",
      "9/9 [==============================] - 61s 7s/step - loss: 0.0084 - val_loss: 0.0081\n",
      "Epoch 12/25\n",
      "9/9 [==============================] - 60s 7s/step - loss: 0.0068 - val_loss: 0.0087\n",
      "Epoch 13/25\n",
      "9/9 [==============================] - 60s 7s/step - loss: 0.0078 - val_loss: 0.0075\n",
      "Epoch 14/25\n",
      "9/9 [==============================] - 60s 7s/step - loss: 0.0076 - val_loss: 0.0075\n",
      "Epoch 15/25\n",
      "9/9 [==============================] - 60s 7s/step - loss: 0.0070 - val_loss: 0.0089\n",
      "Epoch 16/25\n",
      "9/9 [==============================] - 60s 7s/step - loss: 0.0061 - val_loss: 0.0077\n",
      "Epoch 17/25\n",
      "9/9 [==============================] - 61s 7s/step - loss: 0.0060 - val_loss: 0.0079\n",
      "Epoch 18/25\n",
      "9/9 [==============================] - 60s 7s/step - loss: 0.0056 - val_loss: 0.0069\n",
      "Epoch 19/25\n",
      "9/9 [==============================] - 61s 7s/step - loss: 0.0063 - val_loss: 0.0071\n",
      "Epoch 20/25\n",
      "9/9 [==============================] - 61s 7s/step - loss: 0.0058 - val_loss: 0.0077\n",
      "Epoch 21/25\n",
      "9/9 [==============================] - 62s 7s/step - loss: 0.0055 - val_loss: 0.0076\n",
      "Epoch 22/25\n",
      "9/9 [==============================] - 62s 7s/step - loss: 0.0050 - val_loss: 0.0067\n",
      "Epoch 23/25\n",
      "9/9 [==============================] - 61s 7s/step - loss: 0.0049 - val_loss: 0.0068\n",
      "Epoch 24/25\n",
      "9/9 [==============================] - 72s 8s/step - loss: 0.0057 - val_loss: 0.0078\n",
      "Epoch 25/25\n",
      "9/9 [==============================] - 66s 7s/step - loss: 0.0049 - val_loss: 0.0073\n",
      "done\n"
     ]
    }
   ],
   "source": [
    "# initialize the optimizer, compile the model, and show the model\n",
    "# summary\n",
    "opt = Adam(lr=config.INIT_LR)\n",
    "model.compile(loss=\"mse\", optimizer=opt)\n",
    "print(model.summary())\n",
    "# train the network for bounding box regression\n",
    "print(\"[INFO] training bounding box regressor...\")\n",
    "H = model.fit(\n",
    "    trainImages, trainTargets,\n",
    "    validation_data=(testImages, testTargets),\n",
    "    batch_size=config.BATCH_SIZE,\n",
    "    epochs=config.NUM_EPOCHS,\n",
    "    verbose=1)\n",
    "print(\"done\")"
   ]
  },
  {
   "cell_type": "code",
   "execution_count": 23,
   "metadata": {},
   "outputs": [
    {
     "name": "stdout",
     "output_type": "stream",
     "text": [
      "[INFO] saving object detector model...\n"
     ]
    },
    {
     "data": {
      "image/png": "[encoded data removed]",
      "text/plain": [
       "<Figure size 432x288 with 1 Axes>"
      ]
     },
     "metadata": {},
     "output_type": "display_data"
    }
   ],
   "source": [
    " # serialize the model to disk\n",
    "print(\"[INFO] saving object detector model...\")\n",
    "model.save(config.MODEL_PATH, save_format=\"h5\")\n",
    "# plot the model training history\n",
    "N = config.NUM_EPOCHS\n",
    "plt.style.use(\"ggplot\")\n",
    "plt.figure()\n",
    "plt.plot(np.arange(0, N), H.history[\"loss\"], label=\"train_loss\")\n",
    "plt.plot(np.arange(0, N), H.history[\"val_loss\"], label=\"val_loss\")\n",
    "plt.title(\"Bounding Box Regression Loss on Training Set\")\n",
    "plt.xlabel(\"Epoch #\")\n",
    "\n",
    "plt.ylabel(\"Loss\")\n",
    "plt.legend(loc=\"lower left\")\n",
    "plt.savefig(config.PLOT_PATH)"
   ]
  },
  {
   "cell_type": "code",
   "execution_count": 27,
   "metadata": {},
   "outputs": [],
   "source": [
    "image = load_img(\"1.jpg\", target_size=(224, 224))\n",
    "image = img_to_array(image) / 255.0\n",
    "image = np.expand_dims(image, axis=0)\n",
    "preds = model.predict(image)[0]"
   ]
  },
  {
   "cell_type": "code",
   "execution_count": 28,
   "metadata": {},
   "outputs": [
    {
     "name": "stdout",
     "output_type": "stream",
     "text": [
      "[0.2078982  0.54970676 0.15009233 0.23096693]\n"
     ]
    }
   ],
   "source": [
    "print(preds)"
   ]
  },
  {
   "cell_type": "code",
   "execution_count": 29,
   "metadata": {},
   "outputs": [
    {
     "name": "stdout",
     "output_type": "stream",
     "text": [
      "[[0.2078982  0.54970676 0.15009233 0.23096693]]\n"
     ]
    }
   ],
   "source": [
    "print(model.predict(image))"
   ]
  },
  {
   "cell_type": "code",
   "execution_count": 31,
   "metadata": {},
   "outputs": [
    {
     "data": {
      "text/plain": [
       "{'loss': [0.03954486548900604,\n",
       "  0.018725471571087837,\n",
       "  0.015305175445973873,\n",
       "  0.012898382730782032,\n",
       "  0.012094446457922459,\n",
       "  0.010849371552467346,\n",
       "  0.009666118770837784,\n",
       "  0.009199589490890503,\n",
       "  0.008703164756298065,\n",
       "  0.008183465339243412,\n",
       "  0.008147861808538437,\n",
       "  0.007714365608990192,\n",
       "  0.007610312197357416,\n",
       "  0.007054679095745087,\n",
       "  0.007003809791058302,\n",
       "  0.006546815391629934,\n",
       "  0.006526479963213205,\n",
       "  0.006102206185460091,\n",
       "  0.006290988996624947,\n",
       "  0.005905051715672016,\n",
       "  0.00586186395958066,\n",
       "  0.005355380941182375,\n",
       "  0.005319157615303993,\n",
       "  0.00564208347350359,\n",
       "  0.005126320291310549],\n",
       " 'val_loss': [0.017900338396430016,\n",
       "  0.01459850836545229,\n",
       "  0.012404111213982105,\n",
       "  0.010446865111589432,\n",
       "  0.010702459141612053,\n",
       "  0.00926734134554863,\n",
       "  0.009534111246466637,\n",
       "  0.008525469340384007,\n",
       "  0.009450382553040981,\n",
       "  0.00814745668321848,\n",
       "  0.008137896656990051,\n",
       "  0.008669773116707802,\n",
       "  0.007542403414845467,\n",
       "  0.007455825340002775,\n",
       "  0.008850649930536747,\n",
       "  0.007732670288532972,\n",
       "  0.007943753153085709,\n",
       "  0.006921422202140093,\n",
       "  0.0070933448150753975,\n",
       "  0.0076761795207858086,\n",
       "  0.007640637923032045,\n",
       "  0.006741493009030819,\n",
       "  0.006820807699114084,\n",
       "  0.0078001683577895164,\n",
       "  0.007324384991079569]}"
      ]
     },
     "execution_count": 31,
     "metadata": {},
     "output_type": "execute_result"
    }
   ],
   "source": [
    "H.history"
   ]
  },
  {
   "cell_type": "code",
   "execution_count": 36,
   "metadata": {},
   "outputs": [
    {
     "data": {
      "text/plain": [
       "{'verbose': 1, 'epochs': 25, 'steps': 9}"
      ]
     },
     "execution_count": 36,
     "metadata": {},
     "output_type": "execute_result"
    }
   ],
   "source": [
    "H.params"
   ]
  },
  {
   "cell_type": "code",
   "execution_count": null,
   "metadata": {},
   "outputs": [],
   "source": []
  }
 ],
 "metadata": {
  "kernelspec": {
   "display_name": "Python 3",
   "language": "python",
   "name": "python3"
  },
  "language_info": {
   "codemirror_mode": {
    "name": "ipython",
    "version": 3
   },
   "file_extension": ".py",
   "mimetype": "text/x-python",
   "name": "python",
   "nbconvert_exporter": "python",
   "pygments_lexer": "ipython3",
   "version": "3.8.5"
  }
 },
 "nbformat": 4,
 "nbformat_minor": 4
}
